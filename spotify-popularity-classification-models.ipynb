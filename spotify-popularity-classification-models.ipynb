{
 "cells": [
  {
   "cell_type": "code",
   "execution_count": 1,
   "metadata": {
    "_cell_guid": "b1076dfc-b9ad-4769-8c92-a6c4dae69d19",
    "_uuid": "8f2839f25d086af736a60e9eeb907d3b93b6e0e5",
    "jupyter": {
     "source_hidden": true
    }
   },
   "outputs": [],
   "source": [
    "# This Python 3 environment comes with many helpful analytics libraries installed\n",
    "# It is defined by the kaggle/python Docker image: https://github.com/kaggle/docker-python\n",
    "# For example, here's several helpful packages to load\n",
    "\n",
    "import numpy as np # linear algebra\n",
    "import pandas as pd # data processing, CSV file I/O (e.g. pd.read_csv)\n",
    "\n",
    "# Input data files are available in the read-only \"../input/\" directory\n",
    "# For example, running this (by clicking run or pressing Shift+Enter) will list all files under the input directory\n",
    "\n",
    "import os\n",
    "for dirname, _, filenames in os.walk('/kaggle/input'):\n",
    "    for filename in filenames:\n",
    "        print(os.path.join(dirname, filename))\n",
    "\n",
    "# You can write up to 20GB to the current directory (/kaggle/working/) that gets preserved as output when you create a version using \"Save & Run All\" \n",
    "# You can also write temporary files to /kaggle/temp/, but they won't be saved outside of the current session"
   ]
  },
  {
   "cell_type": "markdown",
   "metadata": {},
   "source": [
    "# Spotify - Popularity Classification \n",
    "### All Time Top 2000s Mega Dataset\n"
   ]
  },
  {
   "cell_type": "markdown",
   "metadata": {
    "_kg_hide-input": false,
    "execution": {
     "iopub.execute_input": "2021-09-07T14:23:40.853471Z",
     "iopub.status.busy": "2021-09-07T14:23:40.851467Z",
     "iopub.status.idle": "2021-09-07T14:23:40.865498Z",
     "shell.execute_reply": "2021-09-07T14:23:40.863253Z",
     "shell.execute_reply.started": "2021-09-07T14:23:40.853404Z"
    }
   },
   "source": [
    "TABLE OF CONTENT\n",
    "\n",
    "0. INTRODUCTION & PROJECT GOAL\n",
    "1. IMPORTING LIBRARIES\n",
    "2. DATA DESCRIPTION & CLEANING\n",
    "3. EXPLORATORY ANALYSIS & VISUALISATIONS\n",
    "4. MODELLING DATA\n",
    "5. FINAL CONCLUSIONS"
   ]
  },
  {
   "cell_type": "markdown",
   "metadata": {},
   "source": [
    "### 0 INTRODUCTION\n",
    "\n",
    "#### Data Collection:\n",
    "\n",
    "This Dataset was collected from Kaggle.com\n",
    "\n",
    "- Link: https://www.kaggle.com/iamsumat/spotify-top-2000s-mega-dataset\n",
    "\n",
    "#### Context\n",
    "\n",
    "- This dataset contains audio statistics of roughly the top 2000 tracks from between 1956 to 2019 on Spotify. The data contains 15 columns each describing the track and it's qualities. \n",
    "\n",
    "#### Acknowledgements\n",
    "\n",
    "This data is extracted from the Spotify playlist - Top 2000s on PlaylistMachinery(@plamere) using Selenium with Python. More specifically, it was scraped from http://sortyourmusic.playlistmachinery.com/. \n",
    "\n",
    "#### Content Variables\n",
    "\n",
    "1. Index: ID\n",
    "2. Title: Name of the Track\n",
    "3. Artist: Name of the Artist\n",
    "4. Top Genre: Genre of the track\n",
    "5. Year: Release Year of the track\n",
    "6. Beats per Minute(BPM): The tempo of the song\n",
    "7. Energy: The energy of a song - the higher the value, the more energtic. song\n",
    "8. Danceability: The higher the value, the easier it is to dance to this song.\n",
    "9. Loudness: The higher the value, the louder the song.\n",
    "10. Valence: The higher the value, the more positive mood for the song.\n",
    "11. Length: The duration of the song.\n",
    "12. Acoustic: The higher the value the more acoustic the song is.\n",
    "13. Speechiness: The higher the value the more spoken words the song contains\n",
    "15. Popularity: The higher the value the more popular the song is."
   ]
  },
  {
   "cell_type": "markdown",
   "metadata": {},
   "source": [
    "# PROJECT GOAL & INTERESTS:\n",
    "\n",
    "1. The goal is to build a classification models using: **Linear Regression, Decision Tree Classifier & Naive Bayes.**\n",
    "- Will look to classify a songs level of popularity based off of given feature metrics as mention above.\n",
    "\n",
    "Along the way we will look at other interests such as:\n",
    "\n",
    "2. Most popular Genres and Artists of all time from 1950s to 2000s?\n",
    "3. Is there a trend in genres preferred back in the day vs now?\n",
    "4. What other variables have an impact on the popularity metric? "
   ]
  },
  {
   "cell_type": "markdown",
   "metadata": {},
   "source": [
    "# 1 IMPORTING LIBRARIES"
   ]
  },
  {
   "cell_type": "code",
   "execution_count": 2,
   "metadata": {},
   "outputs": [],
   "source": [
    "import pandas as pd\n",
    "import numpy as np\n",
    "from scipy import stats, special\n",
    "\n",
    "import seaborn as sns\n",
    "from seaborn import pairplot, heatmap\n",
    "import matplotlib.pyplot as plt\n",
    "#import plotly.express as px\n",
    "#import plotly.graph_objects as go\n",
    "#from plotly.offline import plot, iplot, init_notebook_mode\n",
    "#init_notebook_mode(connected=True)\n",
    "\n",
    "from sklearn import model_selection, metrics, linear_model, tree, datasets, feature_selection\n",
    "from sklearn.linear_model import LogisticRegression\n",
    "from sklearn.model_selection import train_test_split, cross_val_score\n",
    "from sklearn.naive_bayes import GaussianNB, MultinomialNB\n",
    "from sklearn.preprocessing import StandardScaler"
   ]
  },
  {
   "cell_type": "markdown",
   "metadata": {},
   "source": [
    "# 2 DATA DESCRIPTION & CLEANING\n",
    "\n",
    "#### 2.1 DATA DESCRIPTION"
   ]
  },
  {
   "cell_type": "code",
   "execution_count": 3,
   "metadata": {},
   "outputs": [
    {
     "data": {
      "text/html": [
       "<div>\n",
       "<style scoped>\n",
       "    .dataframe tbody tr th:only-of-type {\n",
       "        vertical-align: middle;\n",
       "    }\n",
       "\n",
       "    .dataframe tbody tr th {\n",
       "        vertical-align: top;\n",
       "    }\n",
       "\n",
       "    .dataframe thead th {\n",
       "        text-align: right;\n",
       "    }\n",
       "</style>\n",
       "<table border=\"1\" class=\"dataframe\">\n",
       "  <thead>\n",
       "    <tr style=\"text-align: right;\">\n",
       "      <th></th>\n",
       "      <th>Index</th>\n",
       "      <th>Title</th>\n",
       "      <th>Artist</th>\n",
       "      <th>Top Genre</th>\n",
       "      <th>Year</th>\n",
       "      <th>Beats Per Minute (BPM)</th>\n",
       "      <th>Energy</th>\n",
       "      <th>Danceability</th>\n",
       "      <th>Loudness (dB)</th>\n",
       "      <th>Liveness</th>\n",
       "      <th>Valence</th>\n",
       "      <th>Length (Duration)</th>\n",
       "      <th>Acousticness</th>\n",
       "      <th>Speechiness</th>\n",
       "      <th>Popularity</th>\n",
       "    </tr>\n",
       "  </thead>\n",
       "  <tbody>\n",
       "    <tr>\n",
       "      <th>0</th>\n",
       "      <td>1</td>\n",
       "      <td>Sunrise</td>\n",
       "      <td>Norah Jones</td>\n",
       "      <td>adult standards</td>\n",
       "      <td>2004</td>\n",
       "      <td>157</td>\n",
       "      <td>30</td>\n",
       "      <td>53</td>\n",
       "      <td>-14</td>\n",
       "      <td>11</td>\n",
       "      <td>68</td>\n",
       "      <td>201</td>\n",
       "      <td>94</td>\n",
       "      <td>3</td>\n",
       "      <td>71</td>\n",
       "    </tr>\n",
       "    <tr>\n",
       "      <th>1</th>\n",
       "      <td>2</td>\n",
       "      <td>Black Night</td>\n",
       "      <td>Deep Purple</td>\n",
       "      <td>album rock</td>\n",
       "      <td>2000</td>\n",
       "      <td>135</td>\n",
       "      <td>79</td>\n",
       "      <td>50</td>\n",
       "      <td>-11</td>\n",
       "      <td>17</td>\n",
       "      <td>81</td>\n",
       "      <td>207</td>\n",
       "      <td>17</td>\n",
       "      <td>7</td>\n",
       "      <td>39</td>\n",
       "    </tr>\n",
       "    <tr>\n",
       "      <th>2</th>\n",
       "      <td>3</td>\n",
       "      <td>Clint Eastwood</td>\n",
       "      <td>Gorillaz</td>\n",
       "      <td>alternative hip hop</td>\n",
       "      <td>2001</td>\n",
       "      <td>168</td>\n",
       "      <td>69</td>\n",
       "      <td>66</td>\n",
       "      <td>-9</td>\n",
       "      <td>7</td>\n",
       "      <td>52</td>\n",
       "      <td>341</td>\n",
       "      <td>2</td>\n",
       "      <td>17</td>\n",
       "      <td>69</td>\n",
       "    </tr>\n",
       "    <tr>\n",
       "      <th>3</th>\n",
       "      <td>4</td>\n",
       "      <td>The Pretender</td>\n",
       "      <td>Foo Fighters</td>\n",
       "      <td>alternative metal</td>\n",
       "      <td>2007</td>\n",
       "      <td>173</td>\n",
       "      <td>96</td>\n",
       "      <td>43</td>\n",
       "      <td>-4</td>\n",
       "      <td>3</td>\n",
       "      <td>37</td>\n",
       "      <td>269</td>\n",
       "      <td>0</td>\n",
       "      <td>4</td>\n",
       "      <td>76</td>\n",
       "    </tr>\n",
       "    <tr>\n",
       "      <th>4</th>\n",
       "      <td>5</td>\n",
       "      <td>Waitin' On A Sunny Day</td>\n",
       "      <td>Bruce Springsteen</td>\n",
       "      <td>classic rock</td>\n",
       "      <td>2002</td>\n",
       "      <td>106</td>\n",
       "      <td>82</td>\n",
       "      <td>58</td>\n",
       "      <td>-5</td>\n",
       "      <td>10</td>\n",
       "      <td>87</td>\n",
       "      <td>256</td>\n",
       "      <td>1</td>\n",
       "      <td>3</td>\n",
       "      <td>59</td>\n",
       "    </tr>\n",
       "  </tbody>\n",
       "</table>\n",
       "</div>"
      ],
      "text/plain": [
       "   Index                   Title             Artist            Top Genre  \\\n",
       "0      1                 Sunrise        Norah Jones      adult standards   \n",
       "1      2             Black Night        Deep Purple           album rock   \n",
       "2      3          Clint Eastwood           Gorillaz  alternative hip hop   \n",
       "3      4           The Pretender       Foo Fighters    alternative metal   \n",
       "4      5  Waitin' On A Sunny Day  Bruce Springsteen         classic rock   \n",
       "\n",
       "   Year  Beats Per Minute (BPM)  Energy  Danceability  Loudness (dB)  \\\n",
       "0  2004                     157      30            53            -14   \n",
       "1  2000                     135      79            50            -11   \n",
       "2  2001                     168      69            66             -9   \n",
       "3  2007                     173      96            43             -4   \n",
       "4  2002                     106      82            58             -5   \n",
       "\n",
       "   Liveness  Valence Length (Duration)  Acousticness  Speechiness  Popularity  \n",
       "0        11       68               201            94            3          71  \n",
       "1        17       81               207            17            7          39  \n",
       "2         7       52               341             2           17          69  \n",
       "3         3       37               269             0            4          76  \n",
       "4        10       87               256             1            3          59  "
      ]
     },
     "execution_count": 3,
     "metadata": {},
     "output_type": "execute_result"
    }
   ],
   "source": [
    "# Loading datadataset & View\n",
    "\n",
    "spotify_df = pd.read_csv('data/Spotify-2000.csv') \n",
    "spotify_df.head()"
   ]
  },
  {
   "cell_type": "code",
   "execution_count": 4,
   "metadata": {
    "_kg_hide-input": false,
    "jupyter": {
     "source_hidden": true
    }
   },
   "outputs": [
    {
     "name": "stdout",
     "output_type": "stream",
     "text": [
      "<class 'pandas.core.frame.DataFrame'>\n",
      "RangeIndex: 1994 entries, 0 to 1993\n",
      "Data columns (total 15 columns):\n",
      " #   Column                  Non-Null Count  Dtype \n",
      "---  ------                  --------------  ----- \n",
      " 0   Index                   1994 non-null   int64 \n",
      " 1   Title                   1994 non-null   object\n",
      " 2   Artist                  1994 non-null   object\n",
      " 3   Top Genre               1994 non-null   object\n",
      " 4   Year                    1994 non-null   int64 \n",
      " 5   Beats Per Minute (BPM)  1994 non-null   int64 \n",
      " 6   Energy                  1994 non-null   int64 \n",
      " 7   Danceability            1994 non-null   int64 \n",
      " 8   Loudness (dB)           1994 non-null   int64 \n",
      " 9   Liveness                1994 non-null   int64 \n",
      " 10  Valence                 1994 non-null   int64 \n",
      " 11  Length (Duration)       1994 non-null   object\n",
      " 12  Acousticness            1994 non-null   int64 \n",
      " 13  Speechiness             1994 non-null   int64 \n",
      " 14  Popularity              1994 non-null   int64 \n",
      "dtypes: int64(11), object(4)\n",
      "memory usage: 233.8+ KB\n"
     ]
    }
   ],
   "source": [
    "# Overview of Dataset information and data types\n",
    "\n",
    "spotify_df.info() "
   ]
  },
  {
   "cell_type": "code",
   "execution_count": 5,
   "metadata": {
    "jupyter": {
     "source_hidden": true
    }
   },
   "outputs": [
    {
     "data": {
      "text/html": [
       "<div>\n",
       "<style scoped>\n",
       "    .dataframe tbody tr th:only-of-type {\n",
       "        vertical-align: middle;\n",
       "    }\n",
       "\n",
       "    .dataframe tbody tr th {\n",
       "        vertical-align: top;\n",
       "    }\n",
       "\n",
       "    .dataframe thead th {\n",
       "        text-align: right;\n",
       "    }\n",
       "</style>\n",
       "<table border=\"1\" class=\"dataframe\">\n",
       "  <thead>\n",
       "    <tr style=\"text-align: right;\">\n",
       "      <th></th>\n",
       "      <th>Index</th>\n",
       "      <th>Year</th>\n",
       "      <th>Beats Per Minute (BPM)</th>\n",
       "      <th>Energy</th>\n",
       "      <th>Danceability</th>\n",
       "      <th>Loudness (dB)</th>\n",
       "      <th>Liveness</th>\n",
       "      <th>Valence</th>\n",
       "      <th>Acousticness</th>\n",
       "      <th>Speechiness</th>\n",
       "      <th>Popularity</th>\n",
       "    </tr>\n",
       "  </thead>\n",
       "  <tbody>\n",
       "    <tr>\n",
       "      <th>count</th>\n",
       "      <td>1994.000000</td>\n",
       "      <td>1994.000000</td>\n",
       "      <td>1994.000000</td>\n",
       "      <td>1994.000000</td>\n",
       "      <td>1994.000000</td>\n",
       "      <td>1994.000000</td>\n",
       "      <td>1994.000000</td>\n",
       "      <td>1994.000000</td>\n",
       "      <td>1994.000000</td>\n",
       "      <td>1994.000000</td>\n",
       "      <td>1994.00000</td>\n",
       "    </tr>\n",
       "    <tr>\n",
       "      <th>mean</th>\n",
       "      <td>997.500000</td>\n",
       "      <td>1992.992979</td>\n",
       "      <td>120.215647</td>\n",
       "      <td>59.679539</td>\n",
       "      <td>53.238215</td>\n",
       "      <td>-9.008526</td>\n",
       "      <td>19.012036</td>\n",
       "      <td>49.408726</td>\n",
       "      <td>28.858074</td>\n",
       "      <td>4.994985</td>\n",
       "      <td>59.52658</td>\n",
       "    </tr>\n",
       "    <tr>\n",
       "      <th>std</th>\n",
       "      <td>575.762538</td>\n",
       "      <td>16.116048</td>\n",
       "      <td>28.028096</td>\n",
       "      <td>22.154322</td>\n",
       "      <td>15.351507</td>\n",
       "      <td>3.647876</td>\n",
       "      <td>16.727378</td>\n",
       "      <td>24.858212</td>\n",
       "      <td>29.011986</td>\n",
       "      <td>4.401566</td>\n",
       "      <td>14.35160</td>\n",
       "    </tr>\n",
       "    <tr>\n",
       "      <th>min</th>\n",
       "      <td>1.000000</td>\n",
       "      <td>1956.000000</td>\n",
       "      <td>37.000000</td>\n",
       "      <td>3.000000</td>\n",
       "      <td>10.000000</td>\n",
       "      <td>-27.000000</td>\n",
       "      <td>2.000000</td>\n",
       "      <td>3.000000</td>\n",
       "      <td>0.000000</td>\n",
       "      <td>2.000000</td>\n",
       "      <td>11.00000</td>\n",
       "    </tr>\n",
       "    <tr>\n",
       "      <th>25%</th>\n",
       "      <td>499.250000</td>\n",
       "      <td>1979.000000</td>\n",
       "      <td>99.000000</td>\n",
       "      <td>42.000000</td>\n",
       "      <td>43.000000</td>\n",
       "      <td>-11.000000</td>\n",
       "      <td>9.000000</td>\n",
       "      <td>29.000000</td>\n",
       "      <td>3.000000</td>\n",
       "      <td>3.000000</td>\n",
       "      <td>49.25000</td>\n",
       "    </tr>\n",
       "    <tr>\n",
       "      <th>50%</th>\n",
       "      <td>997.500000</td>\n",
       "      <td>1993.000000</td>\n",
       "      <td>119.000000</td>\n",
       "      <td>61.000000</td>\n",
       "      <td>53.000000</td>\n",
       "      <td>-8.000000</td>\n",
       "      <td>12.000000</td>\n",
       "      <td>47.000000</td>\n",
       "      <td>18.000000</td>\n",
       "      <td>4.000000</td>\n",
       "      <td>62.00000</td>\n",
       "    </tr>\n",
       "    <tr>\n",
       "      <th>75%</th>\n",
       "      <td>1495.750000</td>\n",
       "      <td>2007.000000</td>\n",
       "      <td>136.000000</td>\n",
       "      <td>78.000000</td>\n",
       "      <td>64.000000</td>\n",
       "      <td>-6.000000</td>\n",
       "      <td>23.000000</td>\n",
       "      <td>69.750000</td>\n",
       "      <td>50.000000</td>\n",
       "      <td>5.000000</td>\n",
       "      <td>71.00000</td>\n",
       "    </tr>\n",
       "    <tr>\n",
       "      <th>max</th>\n",
       "      <td>1994.000000</td>\n",
       "      <td>2019.000000</td>\n",
       "      <td>206.000000</td>\n",
       "      <td>100.000000</td>\n",
       "      <td>96.000000</td>\n",
       "      <td>-2.000000</td>\n",
       "      <td>99.000000</td>\n",
       "      <td>99.000000</td>\n",
       "      <td>99.000000</td>\n",
       "      <td>55.000000</td>\n",
       "      <td>100.00000</td>\n",
       "    </tr>\n",
       "  </tbody>\n",
       "</table>\n",
       "</div>"
      ],
      "text/plain": [
       "             Index         Year  Beats Per Minute (BPM)       Energy  \\\n",
       "count  1994.000000  1994.000000             1994.000000  1994.000000   \n",
       "mean    997.500000  1992.992979              120.215647    59.679539   \n",
       "std     575.762538    16.116048               28.028096    22.154322   \n",
       "min       1.000000  1956.000000               37.000000     3.000000   \n",
       "25%     499.250000  1979.000000               99.000000    42.000000   \n",
       "50%     997.500000  1993.000000              119.000000    61.000000   \n",
       "75%    1495.750000  2007.000000              136.000000    78.000000   \n",
       "max    1994.000000  2019.000000              206.000000   100.000000   \n",
       "\n",
       "       Danceability  Loudness (dB)     Liveness      Valence  Acousticness  \\\n",
       "count   1994.000000    1994.000000  1994.000000  1994.000000   1994.000000   \n",
       "mean      53.238215      -9.008526    19.012036    49.408726     28.858074   \n",
       "std       15.351507       3.647876    16.727378    24.858212     29.011986   \n",
       "min       10.000000     -27.000000     2.000000     3.000000      0.000000   \n",
       "25%       43.000000     -11.000000     9.000000    29.000000      3.000000   \n",
       "50%       53.000000      -8.000000    12.000000    47.000000     18.000000   \n",
       "75%       64.000000      -6.000000    23.000000    69.750000     50.000000   \n",
       "max       96.000000      -2.000000    99.000000    99.000000     99.000000   \n",
       "\n",
       "       Speechiness  Popularity  \n",
       "count  1994.000000  1994.00000  \n",
       "mean      4.994985    59.52658  \n",
       "std       4.401566    14.35160  \n",
       "min       2.000000    11.00000  \n",
       "25%       3.000000    49.25000  \n",
       "50%       4.000000    62.00000  \n",
       "75%       5.000000    71.00000  \n",
       "max      55.000000   100.00000  "
      ]
     },
     "execution_count": 5,
     "metadata": {},
     "output_type": "execute_result"
    }
   ],
   "source": [
    "# Overview of Dataset numerical data\n",
    "\n",
    "spotify_df.describe()"
   ]
  },
  {
   "cell_type": "markdown",
   "metadata": {},
   "source": []
  },
  {
   "cell_type": "code",
   "execution_count": 6,
   "metadata": {
    "jupyter": {
     "source_hidden": true
    }
   },
   "outputs": [
    {
     "data": {
      "text/plain": [
       "149"
      ]
     },
     "execution_count": 6,
     "metadata": {},
     "output_type": "execute_result"
    }
   ],
   "source": [
    "# Number of genres that have featured in the all time top 2000.\n",
    "\n",
    "len(spotify_df[\"Top Genre\"].unique())"
   ]
  },
  {
   "cell_type": "code",
   "execution_count": 7,
   "metadata": {
    "jupyter": {
     "source_hidden": true
    }
   },
   "outputs": [
    {
     "data": {
      "text/plain": [
       "album rock          413\n",
       "adult standards     123\n",
       "dutch pop            88\n",
       "alternative rock     86\n",
       "dance pop            83\n",
       "                   ... \n",
       "hip pop               1\n",
       "classical rock        1\n",
       "gangster rap          1\n",
       "streektaal            1\n",
       "levenslied            1\n",
       "Name: Top Genre, Length: 149, dtype: int64"
      ]
     },
     "execution_count": 7,
     "metadata": {},
     "output_type": "execute_result"
    }
   ],
   "source": [
    "# Number of times each genre features in the all time top 2000.\n",
    "\n",
    "spotify_df[\"Top Genre\"].value_counts()"
   ]
  },
  {
   "cell_type": "markdown",
   "metadata": {},
   "source": [
    "### Raw Dataset  Summary:\n",
    "\n",
    "#### The Dataset contains:\n",
    "- 1994 entries\n",
    "- 1994 non-null entries\n",
    "- 15 total variable columns\n",
    "- 149 Genre entries\n",
    "\n",
    "#### Data Types:\n",
    "- 4 categorical columns\n",
    "- 11 numerical columns\n",
    "\n",
    "#### Numerical Data:\n",
    "- The data set is between years 1994 - 2019. Just about 63 years worth of most popular songs as classified by spotify.\n",
    "- min Popularity of a song is 11 and max is 100.\n",
    "\n",
    "\n",
    "### Initial Analysis & Progression:\n",
    "\n",
    "1. It's clear that Rock music seems to be the all time favourite genre with the most features. But that being said the data is lob-sidded towards pre-2000s and music taste does tend to change over the years so this can be be investigated further in the EDA."
   ]
  },
  {
   "cell_type": "markdown",
   "metadata": {},
   "source": [
    "### 2.2 Data Cleaning\n",
    "\n",
    "#### Action:\n",
    "\n",
    "1. Convert column data types.\n",
    "2. Remove unecessary columns. \n",
    "3. Adjust column titles.\n",
    "4. consolidate genre column as there are many variations of a single genre e.g. 'dutch pop' and 'dance pop' or 'album rock'and alternative rock. we will make these columns just 'pop' or just 'rock' as to provide a more accurate summarised representation of that genres."
   ]
  },
  {
   "cell_type": "code",
   "execution_count": 8,
   "metadata": {
    "jupyter": {
     "source_hidden": true
    },
    "scrolled": true
   },
   "outputs": [
    {
     "name": "stdout",
     "output_type": "stream",
     "text": [
      "Length (Duration) is now a --> int64 data type\n"
     ]
    }
   ],
   "source": [
    "#Converting Length (Duration) to an integer data type\n",
    "\n",
    "spotify_df.replace(',','', regex=True, inplace=True)\n",
    "spotify_df['Length (Duration)']= spotify_df['Length (Duration)'].apply(pd.to_numeric,errors='coerce')\n",
    "print('Length (Duration) is now a -->',spotify_df['Length (Duration)'].dtype, 'data type')"
   ]
  },
  {
   "cell_type": "code",
   "execution_count": 9,
   "metadata": {
    "jupyter": {
     "source_hidden": true
    }
   },
   "outputs": [],
   "source": [
    "#Removing the Index column.\n",
    "spotify_df.drop(columns = ['Index'], inplace = True)\n",
    "\n",
    "#Converting all column titles to lowercase.\n",
    "spotify_df.columns = map(str.lower, spotify_df.columns)\n",
    "\n",
    "#Coverting column names to have no space between, if they do, replace space with an underscore \"_\"\n",
    "spotify_df.rename(columns = {'top genre' : 'genre', 'beats per minute (bpm)':'beats_per_minute','loudness (db)': 'loudness','length (duration)': 'duration'}, inplace = True)"
   ]
  },
  {
   "cell_type": "code",
   "execution_count": 10,
   "metadata": {
    "jupyter": {
     "source_hidden": true
    }
   },
   "outputs": [
    {
     "name": "stdout",
     "output_type": "stream",
     "text": [
      "<class 'pandas.core.frame.DataFrame'>\n",
      "RangeIndex: 1994 entries, 0 to 1993\n",
      "Data columns (total 14 columns):\n",
      " #   Column            Non-Null Count  Dtype \n",
      "---  ------            --------------  ----- \n",
      " 0   title             1994 non-null   object\n",
      " 1   artist            1994 non-null   object\n",
      " 2   genre             1994 non-null   object\n",
      " 3   year              1994 non-null   int64 \n",
      " 4   beats_per_minute  1994 non-null   int64 \n",
      " 5   energy            1994 non-null   int64 \n",
      " 6   danceability      1994 non-null   int64 \n",
      " 7   loudness          1994 non-null   int64 \n",
      " 8   liveness          1994 non-null   int64 \n",
      " 9   valence           1994 non-null   int64 \n",
      " 10  duration          1994 non-null   int64 \n",
      " 11  acousticness      1994 non-null   int64 \n",
      " 12  speechiness       1994 non-null   int64 \n",
      " 13  popularity        1994 non-null   int64 \n",
      "dtypes: int64(11), object(3)\n",
      "memory usage: 218.2+ KB\n"
     ]
    }
   ],
   "source": [
    "spotify_df.info()"
   ]
  },
  {
   "cell_type": "code",
   "execution_count": 11,
   "metadata": {
    "jupyter": {
     "source_hidden": true
    }
   },
   "outputs": [
    {
     "data": {
      "text/html": [
       "<div>\n",
       "<style scoped>\n",
       "    .dataframe tbody tr th:only-of-type {\n",
       "        vertical-align: middle;\n",
       "    }\n",
       "\n",
       "    .dataframe tbody tr th {\n",
       "        vertical-align: top;\n",
       "    }\n",
       "\n",
       "    .dataframe thead th {\n",
       "        text-align: right;\n",
       "    }\n",
       "</style>\n",
       "<table border=\"1\" class=\"dataframe\">\n",
       "  <thead>\n",
       "    <tr style=\"text-align: right;\">\n",
       "      <th></th>\n",
       "      <th>title</th>\n",
       "      <th>artist</th>\n",
       "      <th>genre</th>\n",
       "      <th>year</th>\n",
       "      <th>beats_per_minute</th>\n",
       "      <th>energy</th>\n",
       "      <th>danceability</th>\n",
       "      <th>loudness</th>\n",
       "      <th>liveness</th>\n",
       "      <th>valence</th>\n",
       "      <th>duration</th>\n",
       "      <th>acousticness</th>\n",
       "      <th>speechiness</th>\n",
       "      <th>popularity</th>\n",
       "    </tr>\n",
       "  </thead>\n",
       "  <tbody>\n",
       "    <tr>\n",
       "      <th>0</th>\n",
       "      <td>Sunrise</td>\n",
       "      <td>Norah Jones</td>\n",
       "      <td>adult standards</td>\n",
       "      <td>2004</td>\n",
       "      <td>157</td>\n",
       "      <td>30</td>\n",
       "      <td>53</td>\n",
       "      <td>-14</td>\n",
       "      <td>11</td>\n",
       "      <td>68</td>\n",
       "      <td>201</td>\n",
       "      <td>94</td>\n",
       "      <td>3</td>\n",
       "      <td>71</td>\n",
       "    </tr>\n",
       "    <tr>\n",
       "      <th>1</th>\n",
       "      <td>Black Night</td>\n",
       "      <td>Deep Purple</td>\n",
       "      <td>album rock</td>\n",
       "      <td>2000</td>\n",
       "      <td>135</td>\n",
       "      <td>79</td>\n",
       "      <td>50</td>\n",
       "      <td>-11</td>\n",
       "      <td>17</td>\n",
       "      <td>81</td>\n",
       "      <td>207</td>\n",
       "      <td>17</td>\n",
       "      <td>7</td>\n",
       "      <td>39</td>\n",
       "    </tr>\n",
       "    <tr>\n",
       "      <th>2</th>\n",
       "      <td>Clint Eastwood</td>\n",
       "      <td>Gorillaz</td>\n",
       "      <td>alternative hip hop</td>\n",
       "      <td>2001</td>\n",
       "      <td>168</td>\n",
       "      <td>69</td>\n",
       "      <td>66</td>\n",
       "      <td>-9</td>\n",
       "      <td>7</td>\n",
       "      <td>52</td>\n",
       "      <td>341</td>\n",
       "      <td>2</td>\n",
       "      <td>17</td>\n",
       "      <td>69</td>\n",
       "    </tr>\n",
       "  </tbody>\n",
       "</table>\n",
       "</div>"
      ],
      "text/plain": [
       "            title       artist                genre  year  beats_per_minute  \\\n",
       "0         Sunrise  Norah Jones      adult standards  2004               157   \n",
       "1     Black Night  Deep Purple           album rock  2000               135   \n",
       "2  Clint Eastwood     Gorillaz  alternative hip hop  2001               168   \n",
       "\n",
       "   energy  danceability  loudness  liveness  valence  duration  acousticness  \\\n",
       "0      30            53       -14        11       68       201            94   \n",
       "1      79            50       -11        17       81       207            17   \n",
       "2      69            66        -9         7       52       341             2   \n",
       "\n",
       "   speechiness  popularity  \n",
       "0            3          71  \n",
       "1            7          39  \n",
       "2           17          69  "
      ]
     },
     "execution_count": 11,
     "metadata": {},
     "output_type": "execute_result"
    }
   ],
   "source": [
    "spotify_df.head(3)"
   ]
  },
  {
   "cell_type": "markdown",
   "metadata": {},
   "source": [
    "### Consolidating genre column"
   ]
  },
  {
   "cell_type": "code",
   "execution_count": 12,
   "metadata": {
    "jupyter": {
     "source_hidden": true
    }
   },
   "outputs": [
    {
     "name": "stdout",
     "output_type": "stream",
     "text": [
      "New Total of Genres from 146 to --> 68\n"
     ]
    }
   ],
   "source": [
    "# function to split the genre column\n",
    "    \n",
    "def genre_splitter(genre):\n",
    "    result = genre.copy()\n",
    "    result = result.str.split(\" \",1)\n",
    "    for i in range(len(result)):\n",
    "        if (len(result[i]) > 1):\n",
    "            result[i] = [result[i][1]]\n",
    "    return result.str.join('')\n",
    "\n",
    "#loop until the genre cannot be split any further\n",
    "\n",
    "new_genre = spotify_df['genre'].copy()\n",
    "while(max((new_genre.str.split(\" \", 1)).str.len()) > 1):\n",
    "    new_genre = genre_splitter(new_genre)\n",
    "    \n",
    "print('New Total of Genres from 146 to -->', len(new_genre.unique()))"
   ]
  },
  {
   "cell_type": "code",
   "execution_count": 13,
   "metadata": {
    "jupyter": {
     "source_hidden": true
    }
   },
   "outputs": [
    {
     "data": {
      "text/plain": [
       "rock          856\n",
       "pop           333\n",
       "standards     123\n",
       "metal          93\n",
       "indie          77\n",
       "             ... \n",
       "ambient         1\n",
       "afropop         1\n",
       "holler          1\n",
       "rap             1\n",
       "soundtrack      1\n",
       "Name: genre, Length: 68, dtype: int64"
      ]
     },
     "execution_count": 13,
     "metadata": {},
     "output_type": "execute_result"
    }
   ],
   "source": [
    "new_genre.value_counts()"
   ]
  },
  {
   "cell_type": "markdown",
   "metadata": {},
   "source": [
    "### Analysis:\n",
    "- Above shows consolidated genre column into single/more generalistic genres into rock, pop etc.\n",
    "- There is also an expected increase in values due to the consolidating the genres."
   ]
  },
  {
   "cell_type": "code",
   "execution_count": 14,
   "metadata": {
    "jupyter": {
     "source_hidden": true
    }
   },
   "outputs": [
    {
     "data": {
      "text/plain": [
       "0       standards\n",
       "1            rock\n",
       "2             hop\n",
       "3           metal\n",
       "4            rock\n",
       "          ...    \n",
       "1989    standards\n",
       "1990    standards\n",
       "1991         rock\n",
       "1992        bebop\n",
       "1993    standards\n",
       "Name: genre, Length: 1994, dtype: object"
      ]
     },
     "execution_count": 14,
     "metadata": {},
     "output_type": "execute_result"
    }
   ],
   "source": [
    "#inputting new column values from new_genre to genre in dataframe.\n",
    "\n",
    "spotify_df['genre'] = new_genre\n",
    "spotify_df['genre']"
   ]
  },
  {
   "cell_type": "markdown",
   "metadata": {},
   "source": [
    "# 3 EXPLORATORY ANALYSIS & VISUALISATIONS\n",
    "\n",
    "\n",
    "-  In this section we will investigate the data. Taking a particular look at our target features: \"Popularity\" & \"Genre\" and their correlating variables within the data set."
   ]
  },
  {
   "cell_type": "markdown",
   "metadata": {},
   "source": [
    "### 3.1 Most popular Genres & Artists from 1950s to 2000s?"
   ]
  },
  {
   "cell_type": "code",
   "execution_count": 15,
   "metadata": {
    "jupyter": {
     "source_hidden": true
    }
   },
   "outputs": [
    {
     "data": {
      "text/html": [
       "<div>\n",
       "<style scoped>\n",
       "    .dataframe tbody tr th:only-of-type {\n",
       "        vertical-align: middle;\n",
       "    }\n",
       "\n",
       "    .dataframe tbody tr th {\n",
       "        vertical-align: top;\n",
       "    }\n",
       "\n",
       "    .dataframe thead th {\n",
       "        text-align: right;\n",
       "    }\n",
       "</style>\n",
       "<table border=\"1\" class=\"dataframe\">\n",
       "  <thead>\n",
       "    <tr style=\"text-align: right;\">\n",
       "      <th></th>\n",
       "      <th>popularity</th>\n",
       "    </tr>\n",
       "    <tr>\n",
       "      <th>genre</th>\n",
       "      <th></th>\n",
       "    </tr>\n",
       "  </thead>\n",
       "  <tbody>\n",
       "    <tr>\n",
       "      <th>rock</th>\n",
       "      <td>52025</td>\n",
       "    </tr>\n",
       "    <tr>\n",
       "      <th>pop</th>\n",
       "      <td>19390</td>\n",
       "    </tr>\n",
       "    <tr>\n",
       "      <th>standards</th>\n",
       "      <td>7697</td>\n",
       "    </tr>\n",
       "    <tr>\n",
       "      <th>metal</th>\n",
       "      <td>6141</td>\n",
       "    </tr>\n",
       "    <tr>\n",
       "      <th>soul</th>\n",
       "      <td>3032</td>\n",
       "    </tr>\n",
       "    <tr>\n",
       "      <th>indie</th>\n",
       "      <td>2912</td>\n",
       "    </tr>\n",
       "    <tr>\n",
       "      <th>wave</th>\n",
       "      <td>2571</td>\n",
       "    </tr>\n",
       "    <tr>\n",
       "      <th>invasion</th>\n",
       "      <td>2451</td>\n",
       "    </tr>\n",
       "    <tr>\n",
       "      <th>cabaret</th>\n",
       "      <td>2349</td>\n",
       "    </tr>\n",
       "    <tr>\n",
       "      <th>hop</th>\n",
       "      <td>1879</td>\n",
       "    </tr>\n",
       "  </tbody>\n",
       "</table>\n",
       "</div>"
      ],
      "text/plain": [
       "           popularity\n",
       "genre                \n",
       "rock            52025\n",
       "pop             19390\n",
       "standards        7697\n",
       "metal            6141\n",
       "soul             3032\n",
       "indie            2912\n",
       "wave             2571\n",
       "invasion         2451\n",
       "cabaret          2349\n",
       "hop              1879"
      ]
     },
     "execution_count": 15,
     "metadata": {},
     "output_type": "execute_result"
    }
   ],
   "source": [
    "# Create a function top_10, which takes a single parameter for a column. \n",
    "# Group the data by the desired column input, sum the values the remaining columns, sort sum values by 'Popularity' column \n",
    "# from highest to lowest, the print the top 10 rows. \n",
    "\n",
    "def top_10(column):\n",
    "    top_10_songs = spotify_df.groupby([column]).sum().sort_values('popularity', ascending=False).head(10)\n",
    "    return(top_10_songs[['popularity']])  # Only show 'popularity' column.\n",
    "\n",
    "top_10('genre')"
   ]
  },
  {
   "cell_type": "markdown",
   "metadata": {},
   "source": []
  },
  {
   "cell_type": "code",
   "execution_count": 16,
   "metadata": {
    "jupyter": {
     "source_hidden": true
    }
   },
   "outputs": [
    {
     "data": {
      "text/html": [
       "<div>\n",
       "<style scoped>\n",
       "    .dataframe tbody tr th:only-of-type {\n",
       "        vertical-align: middle;\n",
       "    }\n",
       "\n",
       "    .dataframe tbody tr th {\n",
       "        vertical-align: top;\n",
       "    }\n",
       "\n",
       "    .dataframe thead th {\n",
       "        text-align: right;\n",
       "    }\n",
       "</style>\n",
       "<table border=\"1\" class=\"dataframe\">\n",
       "  <thead>\n",
       "    <tr style=\"text-align: right;\">\n",
       "      <th></th>\n",
       "      <th>popularity</th>\n",
       "    </tr>\n",
       "    <tr>\n",
       "      <th>artist</th>\n",
       "      <th></th>\n",
       "    </tr>\n",
       "  </thead>\n",
       "  <tbody>\n",
       "    <tr>\n",
       "      <th>The Beatles</th>\n",
       "      <td>2451</td>\n",
       "    </tr>\n",
       "    <tr>\n",
       "      <th>Queen</th>\n",
       "      <td>2085</td>\n",
       "    </tr>\n",
       "    <tr>\n",
       "      <th>Coldplay</th>\n",
       "      <td>1888</td>\n",
       "    </tr>\n",
       "    <tr>\n",
       "      <th>Michael Jackson</th>\n",
       "      <td>1511</td>\n",
       "    </tr>\n",
       "    <tr>\n",
       "      <th>The Rolling Stones</th>\n",
       "      <td>1496</td>\n",
       "    </tr>\n",
       "    <tr>\n",
       "      <th>U2</th>\n",
       "      <td>1476</td>\n",
       "    </tr>\n",
       "    <tr>\n",
       "      <th>Bruce Springsteen</th>\n",
       "      <td>1378</td>\n",
       "    </tr>\n",
       "    <tr>\n",
       "      <th>David Bowie</th>\n",
       "      <td>1311</td>\n",
       "    </tr>\n",
       "    <tr>\n",
       "      <th>ABBA</th>\n",
       "      <td>1186</td>\n",
       "    </tr>\n",
       "    <tr>\n",
       "      <th>Fleetwood Mac</th>\n",
       "      <td>1083</td>\n",
       "    </tr>\n",
       "  </tbody>\n",
       "</table>\n",
       "</div>"
      ],
      "text/plain": [
       "                    popularity\n",
       "artist                        \n",
       "The Beatles               2451\n",
       "Queen                     2085\n",
       "Coldplay                  1888\n",
       "Michael Jackson           1511\n",
       "The Rolling Stones        1496\n",
       "U2                        1476\n",
       "Bruce Springsteen         1378\n",
       "David Bowie               1311\n",
       "ABBA                      1186\n",
       "Fleetwood Mac             1083"
      ]
     },
     "execution_count": 16,
     "metadata": {},
     "output_type": "execute_result"
    }
   ],
   "source": [
    "#Use the same function for the Artists\n",
    "\n",
    "top_10('artist')"
   ]
  },
  {
   "cell_type": "markdown",
   "metadata": {},
   "source": [
    "#### 3.1 Conclusion:\n",
    "\n",
    "- The above shows the accumulation of most popular Genres & Artists of all time. We can also see there is a significant amount of Rock music genre entries compared to the rest of the genres. So there was always a high possibility this will be the most popular overall. Though Michael Jackson, would be an outlier here due to his popularity. \n",
    "\n",
    "- But in terms of 'pure' popularity as seen below, values from 0-100, the story is a little different. We can see that pop music and its many variations has a majority in populularity in more recent years. This may indicate a shift in popularity over the years as well as musical listening trends due to advancements in technology."
   ]
  },
  {
   "cell_type": "code",
   "execution_count": 17,
   "metadata": {
    "jupyter": {
     "source_hidden": true
    }
   },
   "outputs": [
    {
     "data": {
      "text/html": [
       "<div>\n",
       "<style scoped>\n",
       "    .dataframe tbody tr th:only-of-type {\n",
       "        vertical-align: middle;\n",
       "    }\n",
       "\n",
       "    .dataframe tbody tr th {\n",
       "        vertical-align: top;\n",
       "    }\n",
       "\n",
       "    .dataframe thead th {\n",
       "        text-align: right;\n",
       "    }\n",
       "</style>\n",
       "<table border=\"1\" class=\"dataframe\">\n",
       "  <thead>\n",
       "    <tr style=\"text-align: right;\">\n",
       "      <th></th>\n",
       "      <th>genre</th>\n",
       "      <th>year</th>\n",
       "      <th>popularity</th>\n",
       "    </tr>\n",
       "  </thead>\n",
       "  <tbody>\n",
       "    <tr>\n",
       "      <th>793</th>\n",
       "      <td>pop</td>\n",
       "      <td>2019</td>\n",
       "      <td>100</td>\n",
       "    </tr>\n",
       "    <tr>\n",
       "      <th>787</th>\n",
       "      <td>pop</td>\n",
       "      <td>2019</td>\n",
       "      <td>98</td>\n",
       "    </tr>\n",
       "    <tr>\n",
       "      <th>786</th>\n",
       "      <td>electropop</td>\n",
       "      <td>2019</td>\n",
       "      <td>95</td>\n",
       "    </tr>\n",
       "    <tr>\n",
       "      <th>1641</th>\n",
       "      <td>pop</td>\n",
       "      <td>1994</td>\n",
       "      <td>95</td>\n",
       "    </tr>\n",
       "    <tr>\n",
       "      <th>688</th>\n",
       "      <td>rock</td>\n",
       "      <td>2017</td>\n",
       "      <td>88</td>\n",
       "    </tr>\n",
       "    <tr>\n",
       "      <th>726</th>\n",
       "      <td>pop</td>\n",
       "      <td>2018</td>\n",
       "      <td>88</td>\n",
       "    </tr>\n",
       "    <tr>\n",
       "      <th>683</th>\n",
       "      <td>pop</td>\n",
       "      <td>2017</td>\n",
       "      <td>87</td>\n",
       "    </tr>\n",
       "    <tr>\n",
       "      <th>687</th>\n",
       "      <td>pop</td>\n",
       "      <td>2017</td>\n",
       "      <td>87</td>\n",
       "    </tr>\n",
       "    <tr>\n",
       "      <th>745</th>\n",
       "      <td>pop</td>\n",
       "      <td>2018</td>\n",
       "      <td>87</td>\n",
       "    </tr>\n",
       "    <tr>\n",
       "      <th>529</th>\n",
       "      <td>mellow</td>\n",
       "      <td>2013</td>\n",
       "      <td>86</td>\n",
       "    </tr>\n",
       "  </tbody>\n",
       "</table>\n",
       "</div>"
      ],
      "text/plain": [
       "           genre  year  popularity\n",
       "793          pop  2019         100\n",
       "787          pop  2019          98\n",
       "786   electropop  2019          95\n",
       "1641         pop  1994          95\n",
       "688         rock  2017          88\n",
       "726          pop  2018          88\n",
       "683          pop  2017          87\n",
       "687          pop  2017          87\n",
       "745          pop  2018          87\n",
       "529       mellow  2013          86"
      ]
     },
     "execution_count": 17,
     "metadata": {},
     "output_type": "execute_result"
    }
   ],
   "source": [
    "pure_popularity = spotify_df.sort_values('popularity', ascending=False).head(10)\n",
    "pure_popularity[['genre', 'year', 'popularity']]"
   ]
  },
  {
   "cell_type": "markdown",
   "metadata": {},
   "source": [
    "## 3.2  Is there a trend/shift in genres prefered to pre-2000s vs now over the years?\n",
    "\n",
    "#### - To approach this, I will **split the dataset into quarters (n/4) and track the popularity change** in genre, as well as the genre entry count over the years. "
   ]
  },
  {
   "cell_type": "code",
   "execution_count": 18,
   "metadata": {
    "jupyter": {
     "source_hidden": true
    }
   },
   "outputs": [
    {
     "data": {
      "text/plain": [
       "1    520\n",
       "3    500\n",
       "4    496\n",
       "2    478\n",
       "Name: year, dtype: int64"
      ]
     },
     "execution_count": 18,
     "metadata": {},
     "output_type": "execute_result"
    }
   ],
   "source": [
    "# Split of 'Year' column data into 4x equal-dispersed buckets in ascending order from 1956 - 2019:\n",
    "\n",
    "spotify_df['year'] = pd.qcut(spotify_df['year'], q=4, labels=[1, 2, 3, 4]) \n",
    "spotify_df['year'].value_counts()"
   ]
  },
  {
   "cell_type": "code",
   "execution_count": 19,
   "metadata": {
    "jupyter": {
     "source_hidden": true
    }
   },
   "outputs": [
    {
     "data": {
      "text/plain": [
       "[Text(0.5, 0, 'Year Block (YB) divided into 4/4'), Text(0, 0.5, 'Year Count')]"
      ]
     },
     "execution_count": 19,
     "metadata": {},
     "output_type": "execute_result"
    },
    {
     "data": {
      "image/png": "[encoded data removed]",
      "text/plain": [
       "<Figure size 432x288 with 1 Axes>"
      ]
     },
     "metadata": {
      "needs_background": "light"
     },
     "output_type": "display_data"
    }
   ],
   "source": [
    "x=['YB-1', 'YB-2', 'YB-3', 'YB-4']\n",
    "y=spotify_df['year'].value_counts()\n",
    "\n",
    "_ = sns.barplot(x=x, y=y, palette=\"BrBG\")\n",
    "_.set(xlabel='Year Block (YB) divided into 4/4', ylabel='Year Count')"
   ]
  },
  {
   "cell_type": "code",
   "execution_count": 20,
   "metadata": {
    "jupyter": {
     "source_hidden": true
    }
   },
   "outputs": [],
   "source": [
    "# Function for creating year block sets (1 - 4):\n",
    "\n",
    "def year_block(year_no):\n",
    "    block = spotify_df.loc[spotify_df['year'] == year_no]\n",
    "    return block[['genre', 'year', 'popularity']].sort_values('popularity', ascending=False)\n",
    "\n",
    "# Function for creating Top 5 genre value counts for Pie Chart visual:\n",
    "\n",
    "def genre_count(year_block):\n",
    "    return year_block['genre'].value_counts().head()"
   ]
  },
  {
   "cell_type": "markdown",
   "metadata": {},
   "source": [
    "## Pie Chart Visuals of Year Blocks showing trend/shift in genres between (1956 - 2019)"
   ]
  },
  {
   "cell_type": "code",
   "execution_count": 21,
   "metadata": {
    "jupyter": {
     "source_hidden": true
    }
   },
   "outputs": [
    {
     "ename": "NameError",
     "evalue": "name 'go' is not defined",
     "output_type": "error",
     "traceback": [
      "\u001b[0;31m---------------------------------------------------------------------------\u001b[0m",
      "\u001b[0;31mNameError\u001b[0m                                 Traceback (most recent call last)",
      "\u001b[0;32m<ipython-input-21-3f8aaf33a845>\u001b[0m in \u001b[0;36m<module>\u001b[0;34m\u001b[0m\n\u001b[1;32m      8\u001b[0m \u001b[0mcolors\u001b[0m \u001b[0;34m=\u001b[0m \u001b[0;34m[\u001b[0m\u001b[0;34m'gold'\u001b[0m\u001b[0;34m,\u001b[0m \u001b[0;34m'mediumturquoise'\u001b[0m\u001b[0;34m,\u001b[0m \u001b[0;34m'darkorange'\u001b[0m\u001b[0;34m,\u001b[0m \u001b[0;34m'lightgreen'\u001b[0m\u001b[0;34m,\u001b[0m \u001b[0;34m'AntiqueWhite'\u001b[0m\u001b[0;34m]\u001b[0m\u001b[0;34m\u001b[0m\u001b[0;34m\u001b[0m\u001b[0m\n\u001b[1;32m      9\u001b[0m \u001b[0;34m\u001b[0m\u001b[0m\n\u001b[0;32m---> 10\u001b[0;31m \u001b[0mfig\u001b[0m \u001b[0;34m=\u001b[0m \u001b[0mgo\u001b[0m\u001b[0;34m.\u001b[0m\u001b[0mFigure\u001b[0m\u001b[0;34m(\u001b[0m\u001b[0mdata\u001b[0m\u001b[0;34m=\u001b[0m\u001b[0;34m[\u001b[0m\u001b[0mgo\u001b[0m\u001b[0;34m.\u001b[0m\u001b[0mPie\u001b[0m\u001b[0;34m(\u001b[0m\u001b[0mlabels\u001b[0m\u001b[0;34m=\u001b[0m\u001b[0mnames\u001b[0m\u001b[0;34m,\u001b[0m \u001b[0mvalues\u001b[0m\u001b[0;34m=\u001b[0m\u001b[0mvalues\u001b[0m\u001b[0;34m,\u001b[0m \u001b[0mpull\u001b[0m\u001b[0;34m=\u001b[0m\u001b[0;34m[\u001b[0m\u001b[0;36m0.1\u001b[0m\u001b[0;34m,\u001b[0m \u001b[0;36m0\u001b[0m\u001b[0;34m,\u001b[0m \u001b[0;36m0\u001b[0m\u001b[0;34m,\u001b[0m \u001b[0;36m0\u001b[0m\u001b[0;34m,\u001b[0m \u001b[0;36m0\u001b[0m\u001b[0;34m]\u001b[0m\u001b[0;34m)\u001b[0m\u001b[0;34m]\u001b[0m\u001b[0;34m)\u001b[0m\u001b[0;34m\u001b[0m\u001b[0;34m\u001b[0m\u001b[0m\n\u001b[0m\u001b[1;32m     11\u001b[0m fig.update_traces(hoverinfo='label+percent', textinfo='value', textfont_size=20,\n\u001b[1;32m     12\u001b[0m                   marker=dict(colors=colors, line=dict(color='#000000', width=1.5)))\n",
      "\u001b[0;31mNameError\u001b[0m: name 'go' is not defined"
     ]
    }
   ],
   "source": [
    "#Creation of Year block 1 & Genre counter for Pie Chart Viaual:\n",
    "year_block_1 = year_block(1) \n",
    "genre_count(year_block_1)\n",
    "   \n",
    "#Pie chart for year block 1:\n",
    "values = genre_count(year_block_1).values\n",
    "names = genre_count(year_block_1).index\n",
    "colors = ['gold', 'mediumturquoise', 'darkorange', 'lightgreen', 'AntiqueWhite']\n",
    "\n",
    "fig = go.Figure(data=[go.Pie(labels=names, values=values, pull=[0.1, 0, 0, 0, 0])])\n",
    "fig.update_traces(hoverinfo='label+percent', textinfo='value', textfont_size=20,\n",
    "                  marker=dict(colors=colors, line=dict(color='#000000', width=1.5)))\n",
    "fig.update_layout(title_text='Year Block 1')\n",
    "fig.show()\n",
    "   \n",
    "    \n",
    "#Creation of Year block 2 & Genre counter for Pie Chart Viaual:\n",
    "year_block_2 = year_block(2) \n",
    "genre_count(year_block_2)\n",
    "   \n",
    "#Pie chart for year block 2:\n",
    "values = genre_count(year_block_2).values\n",
    "names = genre_count(year_block_2).index\n",
    "colors = ['gold', 'mediumturquoise', 'darkorange', 'lightgreen', 'AntiqueWhite']\n",
    "\n",
    "fig = go.Figure(data=[go.Pie(labels=names, values=values, pull=[0.1, 0, 0, 0, 0])])\n",
    "fig.update_traces(hoverinfo='label+percent', textinfo='value', textfont_size=20,\n",
    "                  marker=dict(colors=colors, line=dict(color='#000000', width=1.5)))\n",
    "fig.update_layout(title_text='Year Block 2')\n",
    "fig.show()\n",
    "\n",
    "\n",
    "#Creation of Year block 3 & Genre counter for Pie Chart Viaual:\n",
    "year_block_3 = year_block(3) \n",
    "genre_count(year_block_3)\n",
    "   \n",
    "#Pie chart for year block 3:\n",
    "values = genre_count(year_block_3).values\n",
    "names = genre_count(year_block_3).index\n",
    "colors = ['gold', 'mediumturquoise', 'darkorange', 'lightgreen', 'AntiqueWhite']\n",
    "\n",
    "fig = go.Figure(data=[go.Pie(labels=names, values=values, name=\"Year Block 3\", pull=[0.1, 0, 0, 0, 0])])\n",
    "fig.update_traces(hoverinfo='label+percent', textinfo='value', textfont_size=20,\n",
    "                  marker=dict(colors=colors, line=dict(color='#000000', width=1.5)))\n",
    "fig.update_layout(title_text='Year Block 3')\n",
    "fig.show()\n",
    "\n",
    "\n",
    "#Creation of Year block 4 & Genre counter for Pie Chart Viaual:\n",
    "year_block_4 = year_block(4) \n",
    "genre_count(year_block_4)\n",
    "   \n",
    "#Pie chart for year block 4:\n",
    "values = genre_count(year_block_4).values\n",
    "names = genre_count(year_block_4).index\n",
    "colors = ['mediumturquoise','gold', 'darkorange', 'lightgreen', 'AntiqueWhite']\n",
    "\n",
    "fig = go.Figure(data=[go.Pie(labels=names, values=values, pull=[0.1, 0, 0, 0, 0])])\n",
    "fig.update_traces(hoverinfo='label+percent', textinfo='value', textfont_size=20,\n",
    "                  marker=dict(colors=colors, line=dict(color='#000000', width=1.5)))\n",
    "fig.update_layout(title_text='Year Block 4')\n",
    "fig.show()"
   ]
  },
  {
   "cell_type": "markdown",
   "metadata": {},
   "source": [
    "#### 3.2 Conclusion: Pie Chart Analysis:\n",
    "- As per above, we can clearly see a shift in genre preference, from Rock leaning into pop music at the end of the quater 4/4. But, the level of popularity for pop music has a much higher rate than that of rock music at it's peak as we shall see below."
   ]
  },
  {
   "cell_type": "markdown",
   "metadata": {},
   "source": [
    "## Genre Popularity Count over the years"
   ]
  },
  {
   "cell_type": "code",
   "execution_count": null,
   "metadata": {
    "jupyter": {
     "source_hidden": true
    }
   },
   "outputs": [],
   "source": [
    "# Joining the year_block heads for top genre count:\n",
    "\n",
    "frames = [year_block_1.head(), year_block_2.head(), year_block_3.head(), year_block_4.head()]\n",
    "top_genre_df = pd.concat(frames)\n",
    "top_genre_df"
   ]
  },
  {
   "cell_type": "markdown",
   "metadata": {},
   "source": [
    "## 3.3 What other features have an impact on the popularity of a song?\n",
    "\n",
    "- We shall look to explore numerical variables such as the audio features and look for correlation bewteen each feature in order to help define usable features to build an accurate model. First let's remove the 'title' and 'year column as all values are unique and will not help with our classification model."
   ]
  },
  {
   "cell_type": "code",
   "execution_count": null,
   "metadata": {
    "jupyter": {
     "source_hidden": true
    }
   },
   "outputs": [],
   "source": [
    "spotify_df.drop(columns = ['title','year'], inplace = True)\n",
    "spotify_df.head()"
   ]
  },
  {
   "cell_type": "markdown",
   "metadata": {},
   "source": [
    "#### Note:\n",
    "- Music genres that have a single values would make our model inefficient, since it does not have enough data to work off of, so these values and corresponding rows in the original dataframe will be removed. Therefore: \n",
    "\n",
    "#### - Genre's with a value count less than 20x shall be removed"
   ]
  },
  {
   "cell_type": "code",
   "execution_count": null,
   "metadata": {
    "jupyter": {
     "source_hidden": true
    }
   },
   "outputs": [],
   "source": [
    "unique = spotify_df['genre'].unique()\n",
    "to_remove = [] \n",
    "\n",
    "# genres that have a single instance only will be placed within the to_remove array\n",
    "for genre in unique:\n",
    "    if spotify_df['genre'].value_counts()[genre] < 20: \n",
    "        to_remove += [genre]\n",
    "\n",
    "print('Genre Values to be removed from data set =', len(to_remove))"
   ]
  },
  {
   "cell_type": "markdown",
   "metadata": {},
   "source": [
    "#### - Now to replace our original genre column with the updated version"
   ]
  },
  {
   "cell_type": "code",
   "execution_count": null,
   "metadata": {
    "_kg_hide-input": true,
    "jupyter": {
     "source_hidden": true
    }
   },
   "outputs": [],
   "source": [
    "spotify_df.set_index([\"genre\"],drop = False, inplace = True)\n",
    "for name in to_remove:\n",
    "    type(name)\n",
    "    spotify_df.drop(index = str(name), inplace = True)\n",
    "    \n",
    "spotify_df.head()"
   ]
  },
  {
   "cell_type": "code",
   "execution_count": null,
   "metadata": {
    "jupyter": {
     "source_hidden": true
    }
   },
   "outputs": [],
   "source": [
    "spotify_df = spotify_df.reset_index(drop=True)\n",
    "spotify_df.head()"
   ]
  },
  {
   "cell_type": "markdown",
   "metadata": {},
   "source": [
    "#### - As you can see genre's have been removed with those having an instance less than 20."
   ]
  },
  {
   "cell_type": "code",
   "execution_count": null,
   "metadata": {},
   "outputs": [],
   "source": [
    "plt.figure(figsize=(20,10))\n",
    "sns.heatmap(spotify_df.corr(),annot=True,cmap='BrBG')\n",
    "plt.show()"
   ]
  },
  {
   "cell_type": "code",
   "execution_count": null,
   "metadata": {
    "jupyter": {
     "source_hidden": true
    }
   },
   "outputs": [],
   "source": []
  },
  {
   "cell_type": "markdown",
   "metadata": {},
   "source": [
    "### 3.3 Conclusion:\n",
    "\n",
    "#### Target Feature: 'Popularity'\n",
    "From the above heat map, though not very dtrong, we can see that the strongest features that correlate with Popularity is:\n",
    "- loudness (17%)\n",
    "- danceability (13%)\n",
    "- energy (12%)\n",
    "- valence (10%)\n",
    "\n",
    "#### Variable relationships: \n",
    "We can see the strongest relationship between the variables excl. paopularity are:\n",
    "- loudness & energy (74%)\n",
    "- valence & danceability (53%)\n",
    "- valence & energy (43%)"
   ]
  },
  {
   "cell_type": "markdown",
   "metadata": {},
   "source": [
    "# 4 MODELLING DATA"
   ]
  },
  {
   "cell_type": "markdown",
   "metadata": {},
   "source": [
    "# --> Model (Popularity Classification)\n",
    "\n",
    "**Popularity predictor Model:** Will look to classify a songs level of popularity based off of given feature metrics as mention above.\n",
    "\n",
    "**Steps:**\n",
    "1. We need to one hot-encode (get dummy variables) for the genre, artist & popularity feature for higher accuracy.\n",
    "2. Split & Scale Data\n",
    "3. Modele & Train Data"
   ]
  },
  {
   "cell_type": "markdown",
   "metadata": {},
   "source": [
    "### Step 1: One hot-encode Genre & Artist Features:\n",
    "\n",
    "#### - Create dummy variables for the genre column."
   ]
  },
  {
   "cell_type": "code",
   "execution_count": null,
   "metadata": {
    "jupyter": {
     "source_hidden": true
    }
   },
   "outputs": [],
   "source": [
    "# Function for creating dummy variables\n",
    "\n",
    "def dummies(df, column, prefix):\n",
    "    df = df.copy()\n",
    "    dummies = pd.get_dummies(df[column], prefix=prefix)\n",
    "    df = pd.concat([df, dummies], axis=1)\n",
    "    df = df.drop(column, axis=1)\n",
    "    return df\n",
    "\n",
    "spotify_df = dummies(spotify_df, 'genre', 'genre')\n",
    "spotify_df = dummies(spotify_df, 'artist', 'artist')\n",
    "spotify_df.head()"
   ]
  },
  {
   "cell_type": "markdown",
   "metadata": {
    "execution": {
     "iopub.execute_input": "2021-09-07T23:34:04.060955Z",
     "iopub.status.busy": "2021-09-07T23:34:04.060509Z",
     "iopub.status.idle": "2021-09-07T23:34:04.068567Z",
     "shell.execute_reply": "2021-09-07T23:34:04.067063Z",
     "shell.execute_reply.started": "2021-09-07T23:34:04.060919Z"
    }
   },
   "source": [
    "#### - Classify target feature: 'popularity' into 2x bins, to help better classify our data for our predictive modeling.\n",
    "\n",
    "- 1 = 'most popular' \n",
    "- 0 = 'least popular'  "
   ]
  },
  {
   "cell_type": "code",
   "execution_count": null,
   "metadata": {
    "jupyter": {
     "source_hidden": true
    }
   },
   "outputs": [],
   "source": [
    "spotify_df['popularity'] = pd.qcut(spotify_df['popularity'], q=2, labels=[0, 1]) \n",
    "spotify_df[['popularity']].head()"
   ]
  },
  {
   "cell_type": "code",
   "execution_count": null,
   "metadata": {
    "jupyter": {
     "source_hidden": true
    }
   },
   "outputs": [],
   "source": [
    "target_v = spotify_df['popularity'].value_counts(normalize=True).round(3)\n",
    "target_v"
   ]
  },
  {
   "cell_type": "code",
   "execution_count": null,
   "metadata": {
    "jupyter": {
     "source_hidden": true
    }
   },
   "outputs": [],
   "source": [
    "sns.barplot(x=target_v.index, y=target_v, palette=\"BrBG\")"
   ]
  },
  {
   "cell_type": "markdown",
   "metadata": {},
   "source": [
    "### Analysis\n",
    "\n",
    "- As we see above, we have a very good split for our target variable. This will greatly minimise class imbalance and will allow our model to be more accurate."
   ]
  },
  {
   "cell_type": "markdown",
   "metadata": {},
   "source": [
    "### Step 2: Splitting & Scaling Data"
   ]
  },
  {
   "cell_type": "code",
   "execution_count": null,
   "metadata": {},
   "outputs": [],
   "source": [
    "# Chosing independant and dependant variables:\n",
    "\n",
    "y = spotify_df.loc[:,'popularity'] #dependant \n",
    "X = spotify_df[['loudness', 'danceability', 'energy', 'valence']] #independant \n",
    "\n",
    "# Split data into training and test sets: 80% training, 20% test split.\n",
    "\n",
    "X_train, X_test, y_train, y_test = train_test_split(X, y, test_size=0.2, random_state=20)"
   ]
  },
  {
   "cell_type": "code",
   "execution_count": null,
   "metadata": {
    "jupyter": {
     "source_hidden": true
    }
   },
   "outputs": [],
   "source": [
    "print('Shape of Data:')\n",
    "print('-')\n",
    "print('X_train:', X_train.shape, 'y_train:', y_train.shape)\n",
    "print('X_test:', X_test.shape,'y_test:', y_test.shape)"
   ]
  },
  {
   "cell_type": "code",
   "execution_count": null,
   "metadata": {},
   "outputs": [],
   "source": [
    "# Scale the independant variable for relatively normal distribution of the data. \n",
    "\n",
    "X_train = StandardScaler().fit_transform(X_train)"
   ]
  },
  {
   "cell_type": "markdown",
   "metadata": {
    "execution": {
     "iopub.execute_input": "2021-09-07T23:12:20.469536Z",
     "iopub.status.busy": "2021-09-07T23:12:20.468925Z",
     "iopub.status.idle": "2021-09-07T23:12:20.475209Z",
     "shell.execute_reply": "2021-09-07T23:12:20.474207Z",
     "shell.execute_reply.started": "2021-09-07T23:12:20.469491Z"
    }
   },
   "source": [
    "## Modeling & Training\n",
    "\n",
    "Due to the nature of the dataset, we will be implementing classification type machine learning with the following:\n",
    "- Logistic Regression\n",
    "- Decision Tree Classifier\n",
    "- Naive Bayes "
   ]
  },
  {
   "cell_type": "markdown",
   "metadata": {},
   "source": [
    "## Training Model Accuracy Outputs:"
   ]
  },
  {
   "cell_type": "code",
   "execution_count": null,
   "metadata": {
    "jupyter": {
     "source_hidden": true
    }
   },
   "outputs": [],
   "source": [
    "# Creating Models\n",
    "\n",
    "logr_model = linear_model.LogisticRegression(solver='liblinear')\n",
    "dtree_model = tree.DecisionTreeClassifier()\n",
    "nb_model = GaussianNB()\n",
    "\n",
    "# Training the models\n",
    "\n",
    "logr_model.fit(X_train, y_train)\n",
    "dtree_model.fit(X_train, y_train)\n",
    "nb_model.fit(X_train, y_train)\n",
    "\n",
    "# Accuracy of trained models with training data:\n",
    "\n",
    "logr_train_acc = logr_model.score(X_train, y_train)\n",
    "dtree_train_acc = dtree_model.score(X_train, y_train)\n",
    "nb_train_acc = nb_model.score(X_train, y_train)\n",
    "\n",
    "print('Training Model Accuracy Outputs:')\n",
    "print('-')\n",
    "print('Logistic Regression:', round(logr_train_acc*100,2),'%')\n",
    "print('Decision Tree:', round(dtree_train_acc*100,2),'%')\n",
    "print('Naive Bayes:', round(nb_train_acc*100,2),'%')"
   ]
  },
  {
   "cell_type": "code",
   "execution_count": null,
   "metadata": {
    "jupyter": {
     "source_hidden": true
    }
   },
   "outputs": [],
   "source": [
    "fig = px.bar(x=['Logistic Regression', 'Decision Tree model', 'Naive Bayes'], \n",
    "             y=[logr_train_acc, dtree_train_acc, nb_train_acc], \n",
    "            color=['Logistic Regression', 'Decision Tree model', 'Naive Bayes'],\n",
    "             labels={'x': 'Model', 'y': 'Accuracy'},\n",
    "            title='Accuracy of trained models with training data')\n",
    "fig.show()"
   ]
  },
  {
   "cell_type": "markdown",
   "metadata": {},
   "source": [
    "### Analysis:\n",
    "- As seen above it appears that the Decision Tree Model has a really high accuracy rate against the training data. But this seems a bit too high and I suspect over fitting. I will validate this through k-fold cross validation."
   ]
  },
  {
   "cell_type": "markdown",
   "metadata": {},
   "source": [
    "## Validating models with k-fold cross validation:"
   ]
  },
  {
   "cell_type": "code",
   "execution_count": null,
   "metadata": {
    "jupyter": {
     "source_hidden": true
    }
   },
   "outputs": [],
   "source": [
    "# Validating models with k-fold cross validation method\n",
    "\n",
    "kf = model_selection.KFold(n_splits=10, shuffle=True, random_state=24)\n",
    "\n",
    "accuracy_logr = cross_val_score(logr_model, X_train, y_train, scoring=\"accuracy\", cv=kf)\n",
    "accuracy_dtree = cross_val_score(dtree_model, X_train, y_train, scoring=\"accuracy\", cv=kf)\n",
    "accuracy_nb = cross_val_score(nb_model, X_train, y_train, scoring=\"accuracy\", cv=kf)\n",
    "\n",
    "accuracy_logr = accuracy_logr.mean()\n",
    "accuracy_dtree = accuracy_dtree.mean()\n",
    "accuracy_nb = accuracy_nb.mean()\n",
    "\n",
    "print('k-fold Cross Validation Accuracy Outputs:')\n",
    "print('-')\n",
    "print(\"Logistic Regression:\", round(accuracy_logr*100,2),\"%\")\n",
    "print(\"Decision Tree:\", round(accuracy_dtree*100,2),\"%\")\n",
    "print(\"Naive Bayes:\", round(accuracy_nb*100,2),\"%\")"
   ]
  },
  {
   "cell_type": "code",
   "execution_count": null,
   "metadata": {
    "jupyter": {
     "source_hidden": true
    }
   },
   "outputs": [],
   "source": [
    "fig = px.bar(x=['Logistic Regression', 'Decision Tree model', 'Naive Bayes'], \n",
    "             y=[accuracy_logr, accuracy_dtree, accuracy_nb], \n",
    "            color=['Logistic Regression', 'Decision Tree model', 'Naive Bayes'],\n",
    "             labels={'x': 'Model', 'y': 'Accuracy'},\n",
    "            title='Validating models with k-fold cross validation')\n",
    "fig.show()"
   ]
  },
  {
   "cell_type": "markdown",
   "metadata": {},
   "source": [
    "### Analysis:\n",
    "- As seen above this seems a little more accurate with the best accuracy being the Logistic Regression Model. It would appear that with a larger dataset the Decision Tree performs well but when there is minimal data, not so much. "
   ]
  },
  {
   "cell_type": "markdown",
   "metadata": {},
   "source": [
    "## Test Data Output from trained models:"
   ]
  },
  {
   "cell_type": "code",
   "execution_count": null,
   "metadata": {
    "jupyter": {
     "source_hidden": true
    }
   },
   "outputs": [],
   "source": [
    "# using the test data for our trained models:\n",
    "\n",
    "print('Test data - Model Accuracy Outputs:')\n",
    "print('-')\n",
    "print('Logistic Regression:', round(logr_model.score(X_test, y_test)*100,2),'%')\n",
    "print('Decision Tree:', round(dtree_model.score(X_test, y_test)*100,2),'%')\n",
    "print('Naive Bayes:', round(nb_model.score(X_test, y_test)*100,2),'%')"
   ]
  },
  {
   "cell_type": "markdown",
   "metadata": {
    "execution": {
     "iopub.execute_input": "2021-09-08T00:47:51.03704Z",
     "iopub.status.busy": "2021-09-08T00:47:51.036438Z",
     "iopub.status.idle": "2021-09-08T00:47:51.044628Z",
     "shell.execute_reply": "2021-09-08T00:47:51.043359Z",
     "shell.execute_reply.started": "2021-09-08T00:47:51.037Z"
    }
   },
   "source": [
    "### Analysis and Next Steps:\n",
    "- With the test data, we have an identical match with Logistic Regression and Decision Tree.\n",
    "- Accuracy ratings are very low.\n",
    "- I will look to now include all variables as to help improve the accuracy of the models."
   ]
  },
  {
   "cell_type": "markdown",
   "metadata": {
    "execution": {
     "iopub.execute_input": "2021-09-08T00:52:31.39833Z",
     "iopub.status.busy": "2021-09-08T00:52:31.397919Z",
     "iopub.status.idle": "2021-09-08T00:52:31.404515Z",
     "shell.execute_reply": "2021-09-08T00:52:31.403089Z",
     "shell.execute_reply.started": "2021-09-08T00:52:31.398297Z"
    }
   },
   "source": [
    "# --> Model (Popularity Classification) Pt.2 \n",
    "\n",
    "- Using all independant variables to try and achieve a greater accuracy"
   ]
  },
  {
   "cell_type": "markdown",
   "metadata": {},
   "source": [
    "### Splitting & Scaling Data.2"
   ]
  },
  {
   "cell_type": "code",
   "execution_count": null,
   "metadata": {},
   "outputs": [],
   "source": [
    "# Chosing independant and dependant variables:\n",
    "\n",
    "y_1 = spotify_df.loc[:,'popularity'] #dependant/target \n",
    "X_1 = spotify_df.drop('popularity', axis=1)#independant \n",
    "\n",
    "# Split data into training and test sets: 80% training, 20% test split.\n",
    "\n",
    "X_train_1, X_test_1, y_train_1, y_test_1 = train_test_split(X_1, y_1, test_size=0.2, random_state=20)"
   ]
  },
  {
   "cell_type": "code",
   "execution_count": null,
   "metadata": {
    "jupyter": {
     "source_hidden": true
    }
   },
   "outputs": [],
   "source": [
    "print('Shape of Data.2:')\n",
    "print('-')\n",
    "print('X_train_1:', X_train_1.shape, 'y_train_1:', y_train_1.shape)\n",
    "print('X_test_1:',X_test_1.shape,'y_test_1:', y_test_1.shape)"
   ]
  },
  {
   "cell_type": "code",
   "execution_count": null,
   "metadata": {
    "jupyter": {
     "source_hidden": true
    }
   },
   "outputs": [],
   "source": [
    "# Scale the independant variable for relatively normal distribution of the data. \n",
    "\n",
    "X_train_1 = StandardScaler().fit_transform(X_train_1)"
   ]
  },
  {
   "cell_type": "markdown",
   "metadata": {
    "execution": {
     "iopub.execute_input": "2021-09-08T00:53:56.583129Z",
     "iopub.status.busy": "2021-09-08T00:53:56.582649Z",
     "iopub.status.idle": "2021-09-08T00:53:56.589463Z",
     "shell.execute_reply": "2021-09-08T00:53:56.588009Z",
     "shell.execute_reply.started": "2021-09-08T00:53:56.583089Z"
    }
   },
   "source": [
    "## Modeling & Training.2\n",
    "\n",
    "- Same a previosuly done with the 3x classification models."
   ]
  },
  {
   "cell_type": "markdown",
   "metadata": {},
   "source": [
    "#### Training Model Accuracy Outputs.2"
   ]
  },
  {
   "cell_type": "code",
   "execution_count": null,
   "metadata": {
    "jupyter": {
     "source_hidden": true
    }
   },
   "outputs": [],
   "source": [
    "# Creating Models\n",
    "\n",
    "logr_model_1 = linear_model.LogisticRegression(solver='liblinear')\n",
    "dtree_model_1 = tree.DecisionTreeClassifier()\n",
    "nb_model_1 = GaussianNB()\n",
    "\n",
    "# Training the models\n",
    "\n",
    "logr_model_1.fit(X_train_1, y_train_1)\n",
    "dtree_model_1.fit(X_train_1, y_train_1)\n",
    "nb_model_1.fit(X_train_1, y_train_1)\n",
    "\n",
    "# Accuracy of trained models with training data:\n",
    "\n",
    "logr_train_acc_1 = logr_model_1.score(X_train_1, y_train_1)\n",
    "dtree_train_acc_1 = dtree_model_1.score(X_train_1, y_train_1)\n",
    "nb_train_acc_1 = nb_model_1.score(X_train_1, y_train_1)\n",
    "\n",
    "print('Training Model Accuracy Outputs.2:')\n",
    "print('-')\n",
    "print('Logistic Regression:', round(logr_train_acc_1*100,2),'%')\n",
    "print('Decision Tree:', round(dtree_train_acc_1*100,2),'%')\n",
    "print('Naive Bayes:', round(nb_train_acc_1*100,2),'%')"
   ]
  },
  {
   "cell_type": "code",
   "execution_count": null,
   "metadata": {},
   "outputs": [],
   "source": [
    "fig = px.bar(x=['Logistic Regression', 'Decision Tree model', 'Naive Bayes'], \n",
    "             y=[logr_train_acc_1, dtree_train_acc_1, nb_train_acc_1], \n",
    "            color=['Logistic Regression', 'Decision Tree model', 'Naive Bayes'],\n",
    "             labels={'x': 'Model', 'y': 'Accuracy'},\n",
    "            title='Accuracy of trained models with tusing all independant variables on training data')\n",
    "fig.show()"
   ]
  },
  {
   "cell_type": "markdown",
   "metadata": {},
   "source": [
    "### Analysis:\n",
    "- As seen above it appears that the accuracy has increased quite a bit for all models, again, Decision Tree Model has a really high accuracy rate against the training data. So will validate this through k-fold cross validation."
   ]
  },
  {
   "cell_type": "markdown",
   "metadata": {},
   "source": [
    "#### Validating models with k-fold cross validation.2"
   ]
  },
  {
   "cell_type": "code",
   "execution_count": null,
   "metadata": {
    "jupyter": {
     "source_hidden": true
    }
   },
   "outputs": [],
   "source": [
    "# Validating new models with k-fold cross validation method\n",
    "\n",
    "accuracy_logr_1 = cross_val_score(logr_model_1, X_train_1, y_train_1, scoring=\"accuracy\", cv=kf)\n",
    "accuracy_dtree_1 = cross_val_score(dtree_model_1, X_train_1, y_train_1, scoring=\"accuracy\", cv=kf)\n",
    "accuracy_nb_1 = cross_val_score(nb_model_1, X_train_1, y_train_1, scoring=\"accuracy\", cv=kf)\n",
    "\n",
    "accuracy_logr_1 = accuracy_logr_1.mean()\n",
    "accuracy_dtree_1 = accuracy_dtree_1.mean()\n",
    "accuracy_nb_1 = accuracy_nb_1.mean()\n",
    "\n",
    "print('k-fold Cross Validation Accuracy Outputs.2:')\n",
    "print('-')\n",
    "print(\"Logistic Regression:\", round(accuracy_logr_1*100,2),\"%\")\n",
    "print(\"Decision Tree:\", round(accuracy_dtree_1*100,2),\"%\")\n",
    "print(\"Naive Bayes:\", round(accuracy_nb_1*100,2),\"%\")"
   ]
  },
  {
   "cell_type": "code",
   "execution_count": null,
   "metadata": {
    "jupyter": {
     "source_hidden": true
    }
   },
   "outputs": [],
   "source": [
    "fig = px.bar(x=['Logistic Regression', 'Decision Tree model', 'Naive Bayes'], \n",
    "             y=[accuracy_logr_1, accuracy_dtree_1, accuracy_nb_1], \n",
    "            color=['Logistic Regression', 'Decision Tree model', 'Naive Bayes'],\n",
    "             labels={'x': 'Model', 'y': 'Accuracy'},\n",
    "            title='Validating new models with k-fold cross validation')\n",
    "fig.show()"
   ]
  },
  {
   "cell_type": "markdown",
   "metadata": {
    "execution": {
     "iopub.execute_input": "2021-09-08T01:10:19.051657Z",
     "iopub.status.busy": "2021-09-08T01:10:19.050998Z",
     "iopub.status.idle": "2021-09-08T01:10:19.060218Z",
     "shell.execute_reply": "2021-09-08T01:10:19.058251Z",
     "shell.execute_reply.started": "2021-09-08T01:10:19.051602Z"
    }
   },
   "source": [
    "### Analysis:\n",
    "- With the increase in data for the feature variables, we have increased validation of the models, with logistic regression coming out on top and decision trees coming in as least favourable."
   ]
  },
  {
   "cell_type": "markdown",
   "metadata": {},
   "source": [
    "#### Test Data Output from trained models.2"
   ]
  },
  {
   "cell_type": "code",
   "execution_count": null,
   "metadata": {
    "jupyter": {
     "source_hidden": true
    }
   },
   "outputs": [],
   "source": [
    "# using the test data for our trained models:\n",
    "\n",
    "print('Test data - Model Accuracy Outputs.2:')\n",
    "print('-')\n",
    "print('Logistic Regression:', round(logr_model_1.score(X_test_1, y_test_1)*100,2))\n",
    "print('Decision Tree:', round(dtree_model_1.score(X_test_1, y_test_1)*100,2))\n",
    "print('Naive Bayes:', round(nb_model_1.score(X_test_1, y_test_1)*100,2))"
   ]
  },
  {
   "cell_type": "markdown",
   "metadata": {},
   "source": [
    "## Summary of Model Accuracy:"
   ]
  },
  {
   "cell_type": "markdown",
   "metadata": {
    "execution": {
     "iopub.execute_input": "2021-09-08T10:19:51.313313Z",
     "iopub.status.busy": "2021-09-08T10:19:51.31293Z",
     "iopub.status.idle": "2021-09-08T10:19:51.387914Z",
     "shell.execute_reply": "2021-09-08T10:19:51.386378Z",
     "shell.execute_reply.started": "2021-09-08T10:19:51.313281Z"
    }
   },
   "source": [
    "#### Model (Popularity Classification) \n",
    "- With 'loudness', 'danceability', 'energy', 'valence' as independant variables due to highest correlation.\n",
    "\n",
    "Trained Model:\n",
    "- LR Accuracy: 56%\n",
    "- DT Accuracy: 99%\n",
    "- NB Accuracy: 55%\n",
    "\n",
    "K-fold Cross Val:\n",
    "- LR Accuracy: 56%\n",
    "- DT Accuracy: 54%\n",
    "- NB Accuracy: 55%\n",
    "\n",
    "Test Data Result:\n",
    "- LR Accuracy: 53%\n",
    "- DT Accuracy: 53%\n",
    "- NB Accuracy: 53%\n",
    "\n",
    "\n",
    "#### Model (Popularity Classification) pt.2\n",
    "- With all independant data variables included.\n",
    "\n",
    "Trained Model.2:\n",
    "- LR Accuracy: 85%\n",
    "- DT Accuracy: 100%\n",
    "- NB Accuracy: 77%\n",
    "\n",
    "K-fold Cross Val.2:\n",
    "- LR Accuracy: 69%\n",
    "- DT Accuracy: 62%\n",
    "- NB Accuracy: 63%\n",
    "\n",
    "Test Data Result.2:\n",
    "- LR Accuracy: 55%\n",
    "- DT Accuracy: 50%\n",
    "- NB Accuracy: 62%"
   ]
  },
  {
   "cell_type": "markdown",
   "metadata": {
    "execution": {
     "iopub.execute_input": "2021-09-08T12:55:03.964737Z",
     "iopub.status.busy": "2021-09-08T12:55:03.964337Z",
     "iopub.status.idle": "2021-09-08T12:55:03.968841Z",
     "shell.execute_reply": "2021-09-08T12:55:03.96791Z",
     "shell.execute_reply.started": "2021-09-08T12:55:03.964702Z"
    }
   },
   "source": [
    "# 5 FINAL CONCLUSIONS"
   ]
  },
  {
   "cell_type": "markdown",
   "metadata": {
    "execution": {
     "iopub.execute_input": "2021-09-08T13:05:20.764426Z",
     "iopub.status.busy": "2021-09-08T13:05:20.764076Z",
     "iopub.status.idle": "2021-09-08T13:05:20.772938Z",
     "shell.execute_reply": "2021-09-08T13:05:20.77138Z",
     "shell.execute_reply.started": "2021-09-08T13:05:20.764376Z"
    }
   },
   "source": [
    "1. The accuracy of the data sets are quite vaired throughout the models used.\n",
    "2. Overall, it seems the models perform better with more data than less. My assumption is this is due to the lack of strong correlation between what makes a song popular. As well as a shift in music trends over the years which makes prediction more challenging. In retrospect I could have split the modeling over the year blocks created. This may produce a more accurate model and relevant model.\n",
    "3. In conclusion, the best performing in general, either the **Linear Regression** should be used with a larger dataset (+1000) with an 85% accuracy . And **Naive Bayes** models should be used with a smaller data set with a 62% accuracy."
   ]
  }
 ],
 "metadata": {
  "kernelspec": {
   "display_name": "Python 3 (ipykernel)",
   "language": "python",
   "name": "python3"
  },
  "language_info": {
   "codemirror_mode": {
    "name": "ipython",
    "version": 3
   },
   "file_extension": ".py",
   "mimetype": "text/x-python",
   "name": "python",
   "nbconvert_exporter": "python",
   "pygments_lexer": "ipython3",
   "version": "3.9.7"
  }
 },
 "nbformat": 4,
 "nbformat_minor": 4
}
